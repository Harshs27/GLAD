{
 "cells": [
  {
   "cell_type": "markdown",
   "metadata": {},
   "source": [
    "# Working example of GLAD \n",
    "Fitting GLAD on a single random sparse graph with samples obtained from a corresponding multivariate Gaussian distribution"
   ]
  },
  {
   "cell_type": "code",
   "execution_count": 10,
   "metadata": {},
   "outputs": [
    {
     "name": "stdout",
     "output_type": "stream",
     "text": [
      "Pytorch version  1.4.0\n",
      "networkx version  2.5\n"
     ]
    }
   ],
   "source": [
    "# importing required modules: Python 3 used. \n",
    "import numpy as np\n",
    "import pandas as pd\n",
    "import torch\n",
    "print('Pytorch version ', torch.__version__)\n",
    "import sys\n",
    "import scipy\n",
    "import networkx as nx\n",
    "print('networkx version ', nx.__version__)\n",
    "import copy, random\n",
    "import matplotlib.pyplot as plt\n",
    "from glad import glad\n",
    "from glad_model import glad_model\n",
    "import torch.nn as nn\n",
    "from metrics import report_metrics\n",
    "import warnings\n",
    "warnings.filterwarnings('ignore')"
   ]
  },
  {
   "cell_type": "code",
   "execution_count": 2,
   "metadata": {},
   "outputs": [],
   "source": [
    "# initializing basic params\n",
    "D = 10 # Dimension of graph\n",
    "sparsity = 0.2 # erdos-renyi sparsity of true precision matrix\n",
    "w_max, w_min = 0.5, 1 # sample true precision matrix entries ~U[w_min, w_max] \n",
    "sample_size = 500 # Number of samples from the true graph\n",
    "lr_glad = 0.03 # Learning rate of GLAD\n",
    "use_optimizer = 'adam' # Optimizer\n",
    "INIT_DIAG = 0 # Initialize as (S + theta_init_offset * I)^-1\n",
    "lambda_init = 1 # Initial lambda value\n",
    "L = 15 # Number of unrolled iterations"
   ]
  },
  {
   "cell_type": "markdown",
   "metadata": {},
   "source": [
    "## Preparing the input data & output precision matrix"
   ]
  },
  {
   "cell_type": "code",
   "execution_count": 3,
   "metadata": {},
   "outputs": [],
   "source": [
    "# initializing precision matrix\n",
    "def get_sparsity_pattern(seed=None):\n",
    "    if seed != None:\n",
    "        np.random.seed(seed)\n",
    "    prob = sparsity\n",
    "    G = nx.generators.random_graphs.gnp_random_graph(D, prob, seed=seed, directed=False)\n",
    "    edge_connections = nx.adjacency_matrix(G).todense() # adjacency matrix\n",
    "    return edge_connections\n",
    "\n",
    "# Get the input data and corresponding output true precision matrix for training\n",
    "def get_samples(edge_connections, seed=None, u=0.1): # mean = 0\n",
    "    mean_value = 0 # zero mean of Gaussian distribution\n",
    "    mean_normal = np.ones(D) * mean_value\n",
    "    if seed != None:\n",
    "        np.random.seed(seed)\n",
    "        \n",
    "    # uniform [w_min, w_max]\n",
    "    U = np.matrix(np.random.random((D, D)) * (w_max - w_min) + w_min)\n",
    "    theta = np.multiply(edge_connections, U)\n",
    "    # making it symmetric\n",
    "    theta = (theta + theta.T)/2 + np.eye(D)\n",
    "    smallest_eigval = np.min(np.linalg.eigvals(theta))\n",
    "    # Just in case : to avoid numerical error in case a epsilon complex component present\n",
    "    smallest_eigval = smallest_eigval.real\n",
    "    # making the min eigenvalue as u\n",
    "    precision_mat = theta + np.eye(D)*(u - smallest_eigval)\n",
    "    print('Smallest eigenvalue = ', np.min(np.linalg.eigvals(precision_mat)))\n",
    "    \n",
    "    cov = np.linalg.inv(precision_mat) # avoiding the use of pinv as data not true representative of conditional independencies.\n",
    "    # get the samples \n",
    "    if seed != None:\n",
    "        np.random.seed(seed)\n",
    "    # Sampling data from multivariate normal distribution\n",
    "    data = np.random.multivariate_normal(mean=mean_normal, cov=cov, size=sample_size)\n",
    "    print('data: ', data.shape, ' theta: ', theta.shape)\n",
    "    return data, precision_mat # MxD, DxD"
   ]
  },
  {
   "cell_type": "code",
   "execution_count": 4,
   "metadata": {},
   "outputs": [
    {
     "name": "stdout",
     "output_type": "stream",
     "text": [
      "Smallest eigenvalue =  0.09999999999999937\n",
      "data:  (500, 10)  theta:  (10, 10)\n"
     ]
    }
   ],
   "source": [
    "edge_connections = get_sparsity_pattern() # the adjacency matrix\n",
    "X, theta_true = get_samples(edge_connections) # input data = X, output true precision matrix = theta_true\n",
    "#print('Check: ', X, theta_true)"
   ]
  },
  {
   "cell_type": "markdown",
   "metadata": {},
   "source": [
    "## Training the glad"
   ]
  },
  {
   "cell_type": "code",
   "execution_count": 5,
   "metadata": {},
   "outputs": [],
   "source": [
    "# helper functions \n",
    "USE_CUDA = False\n",
    "def convert_to_torch(data, TESTING_FLAG=False, USE_CUDA=USE_CUDA):# convert from numpy to torch variable \n",
    "    if USE_CUDA == False:\n",
    "        data = torch.from_numpy(data.astype(np.float, copy=False)).type(torch.FloatTensor)\n",
    "        if TESTING_FLAG == True:\n",
    "            data.requires_grad = False\n",
    "    else: # On GPU\n",
    "        if TESTING_FLAG == False:\n",
    "            data = torch.from_numpy(data.astype(np.float, copy=False)).type(torch.FloatTensor).cuda()\n",
    "        else: # testing phase, no need to store the data on the GPU\n",
    "            data = torch.from_numpy(data.astype(np.float, copy=False)).type(torch.FloatTensor).cuda()\n",
    "            data.requires_grad = False\n",
    "    return data\n",
    "\n",
    "def get_optimizers(model_glad):\n",
    "    lrG = lr_glad\n",
    "    if use_optimizer == 'adam':\n",
    "        optimizer_glad = torch.optim.Adam(model_glad.parameters(), lr=lrG, betas=(0.9, 0.999), eps=1e-08, weight_decay=0)\n",
    "    else:\n",
    "        print('Optimizer not found!')\n",
    "    return optimizer_glad\n",
    "criterion_graph = nn.MSELoss()\n",
    "# Consider that all the data can be shifted to GPU\n",
    "X = convert_to_torch(X)\n",
    "theta_true = convert_to_torch(theta_true, TESTING_FLAG=True)"
   ]
  },
  {
   "cell_type": "markdown",
   "metadata": {},
   "source": [
    "## Training GLAD using supervision"
   ]
  },
  {
   "cell_type": "code",
   "execution_count": 6,
   "metadata": {
    "scrolled": false
   },
   "outputs": [
    {
     "name": "stdout",
     "output_type": "stream",
     "text": [
      "epoch:  0  loss:  0.19684519\n",
      ": Recovery :FDR, TPR, FPR, SHD, nnz_true, nnz_pred, precision, recall, Fb, aupr, auc \n",
      "nan 0.0 0.0 7.0 7.0 0.0 nan 0.0 0.0 0.156 0.5\n",
      "epoch:  1  loss:  0.17134902\n",
      "epoch:  2  loss:  0.14000645\n",
      "epoch:  3  loss:  0.10775185\n",
      "epoch:  4  loss:  0.07943447\n",
      "epoch:  5  loss:  0.056306645\n",
      ": Recovery :FDR, TPR, FPR, SHD, nnz_true, nnz_pred, precision, recall, Fb, aupr, auc \n",
      "0.0 1.0 0.0 0.0 7.0 7.0 1.0 1.0 1.0 1.0 1.0\n",
      "epoch:  6  loss:  0.039452948\n",
      "epoch:  7  loss:  0.03031966\n",
      "epoch:  8  loss:  0.026799602\n",
      "epoch:  9  loss:  0.021831678\n",
      "epoch:  10  loss:  0.016253486\n",
      ": Recovery :FDR, TPR, FPR, SHD, nnz_true, nnz_pred, precision, recall, Fb, aupr, auc \n",
      "0.0 1.0 0.0 0.0 7.0 7.0 1.0 1.0 1.0 1.0 1.0\n",
      "epoch:  11  loss:  0.011662516\n",
      "epoch:  12  loss:  0.008434585\n",
      "epoch:  13  loss:  0.0063241594\n",
      "epoch:  14  loss:  0.004983781\n",
      "epoch:  15  loss:  0.004139496\n",
      ": Recovery :FDR, TPR, FPR, SHD, nnz_true, nnz_pred, precision, recall, Fb, aupr, auc \n",
      "0.3 1.0 0.079 3.0 7.0 10.0 0.7 1.0 0.824 1.0 1.0\n",
      "epoch:  16  loss:  0.0036193565\n",
      "epoch:  17  loss:  0.0033147065\n",
      "epoch:  18  loss:  0.0031530336\n",
      "epoch:  19  loss:  0.0030882687\n",
      "epoch:  20  loss:  0.003085554\n",
      ": Recovery :FDR, TPR, FPR, SHD, nnz_true, nnz_pred, precision, recall, Fb, aupr, auc \n",
      "0.682 1.0 0.395 15.0 7.0 22.0 0.318 1.0 0.483 1.0 1.0\n",
      "epoch:  21  loss:  0.0031244163\n",
      "epoch:  22  loss:  0.0031875614\n",
      "epoch:  23  loss:  0.0032653993\n",
      "epoch:  24  loss:  0.003351\n",
      "epoch:  25  loss:  0.0034374187\n",
      ": Recovery :FDR, TPR, FPR, SHD, nnz_true, nnz_pred, precision, recall, Fb, aupr, auc \n",
      "0.731 1.0 0.5 19.0 7.0 26.0 0.269 1.0 0.424 1.0 1.0\n",
      "epoch:  26  loss:  0.0035209528\n",
      "epoch:  27  loss:  0.0035996488\n",
      "epoch:  28  loss:  0.0036725136\n",
      "epoch:  29  loss:  0.003737147\n",
      "epoch:  30  loss:  0.0037933022\n",
      ": Recovery :FDR, TPR, FPR, SHD, nnz_true, nnz_pred, precision, recall, Fb, aupr, auc \n",
      "0.774 1.0 0.632 24.0 7.0 31.0 0.226 1.0 0.368 1.0 1.0\n",
      "epoch:  31  loss:  0.0038405806\n",
      "epoch:  32  loss:  0.003879189\n",
      "epoch:  33  loss:  0.0039092936\n",
      "epoch:  34  loss:  0.003931247\n",
      "epoch:  35  loss:  0.003945328\n",
      ": Recovery :FDR, TPR, FPR, SHD, nnz_true, nnz_pred, precision, recall, Fb, aupr, auc \n",
      "0.8 1.0 0.737 28.0 7.0 35.0 0.2 1.0 0.333 1.0 1.0\n",
      "epoch:  36  loss:  0.0039519207\n",
      "epoch:  37  loss:  0.0039514573\n",
      "epoch:  38  loss:  0.0039443965\n",
      "epoch:  39  loss:  0.0039312523\n"
     ]
    }
   ],
   "source": [
    "# Initialize the model\n",
    "model_glad = glad_model(L=L, theta_init_offset=0.1, nF=3, H=3, USE_CUDA=USE_CUDA)\n",
    "optimizer_glad = get_optimizers(model_glad)\n",
    "# get the sample covariance matrix for GLAD: Note, adjust the mean if needed\n",
    "S = torch.matmul(X.t(), X)/X.shape[0] # DxD matrix\n",
    "for epoch in range(40):\n",
    "    optimizer_glad.zero_grad()\n",
    "    theta_pred, loss = glad(S, theta_true, model_glad, [D, INIT_DIAG, lambda_init, L],criterion_graph)\n",
    "#    print(theta_true.shape, theta_pred.shape)\n",
    "    loss.backward() # calculate the gradients\n",
    "    optimizer_glad.step() # update the weights\n",
    "    compare_theta = report_metrics(np.array(theta_true), theta_pred[0].detach().numpy())\n",
    "    print('epoch: ', epoch, ' loss: ', loss.detach().numpy()[0])\n",
    "    if epoch %5 == 0:\n",
    "        print(': Recovery :FDR, TPR, FPR, SHD, nnz_true, nnz_pred, precision, recall, Fb, aupr, auc ')\n",
    "        print( *np.around(compare_theta, 3))"
   ]
  },
  {
   "cell_type": "code",
   "execution_count": null,
   "metadata": {},
   "outputs": [],
   "source": []
  },
  {
   "cell_type": "code",
   "execution_count": null,
   "metadata": {},
   "outputs": [],
   "source": []
  }
 ],
 "metadata": {
  "kernelspec": {
   "display_name": "glad",
   "language": "python",
   "name": "glad"
  },
  "language_info": {
   "codemirror_mode": {
    "name": "ipython",
    "version": 3
   },
   "file_extension": ".py",
   "mimetype": "text/x-python",
   "name": "python",
   "nbconvert_exporter": "python",
   "pygments_lexer": "ipython3",
   "version": "3.8.11"
  }
 },
 "nbformat": 4,
 "nbformat_minor": 2
}
